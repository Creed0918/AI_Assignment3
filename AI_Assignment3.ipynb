{
 "cells": [
  {
   "cell_type": "code",
   "execution_count": 36,
   "metadata": {},
   "outputs": [
    {
     "data": {
      "text/html": [
       "<div>\n",
       "<style scoped>\n",
       "    .dataframe tbody tr th:only-of-type {\n",
       "        vertical-align: middle;\n",
       "    }\n",
       "\n",
       "    .dataframe tbody tr th {\n",
       "        vertical-align: top;\n",
       "    }\n",
       "\n",
       "    .dataframe thead th {\n",
       "        text-align: right;\n",
       "    }\n",
       "</style>\n",
       "<table border=\"1\" class=\"dataframe\">\n",
       "  <thead>\n",
       "    <tr style=\"text-align: right;\">\n",
       "      <th></th>\n",
       "      <th>Temperature °C</th>\n",
       "      <th>Mols KCL</th>\n",
       "      <th>Size nm^3</th>\n",
       "    </tr>\n",
       "  </thead>\n",
       "  <tbody>\n",
       "    <tr>\n",
       "      <th>0</th>\n",
       "      <td>469</td>\n",
       "      <td>647</td>\n",
       "      <td>6.244743e+05</td>\n",
       "    </tr>\n",
       "    <tr>\n",
       "      <th>1</th>\n",
       "      <td>403</td>\n",
       "      <td>694</td>\n",
       "      <td>5.779610e+05</td>\n",
       "    </tr>\n",
       "    <tr>\n",
       "      <th>2</th>\n",
       "      <td>302</td>\n",
       "      <td>975</td>\n",
       "      <td>6.196847e+05</td>\n",
       "    </tr>\n",
       "    <tr>\n",
       "      <th>3</th>\n",
       "      <td>779</td>\n",
       "      <td>916</td>\n",
       "      <td>1.460449e+06</td>\n",
       "    </tr>\n",
       "    <tr>\n",
       "      <th>4</th>\n",
       "      <td>901</td>\n",
       "      <td>18</td>\n",
       "      <td>4.325726e+04</td>\n",
       "    </tr>\n",
       "  </tbody>\n",
       "</table>\n",
       "</div>"
      ],
      "text/plain": [
       "   Temperature °C  Mols KCL     Size nm^3\n",
       "0             469       647  6.244743e+05\n",
       "1             403       694  5.779610e+05\n",
       "2             302       975  6.196847e+05\n",
       "3             779       916  1.460449e+06\n",
       "4             901        18  4.325726e+04"
      ]
     },
     "execution_count": 36,
     "metadata": {},
     "output_type": "execute_result"
    }
   ],
   "source": [
    "import numpy as np\n",
    "import pandas as pd\n",
    "\n",
    "dp = pd.read_csv(\"https://raw.githubusercontent.com/profmcnich/example_notebook/main/science_data_large.csv\")\n",
    "dp.head()"
   ]
  },
  {
   "cell_type": "markdown",
   "metadata": {},
   "source": [
    "# Splitting the dataset"
   ]
  },
  {
   "cell_type": "code",
   "execution_count": 37,
   "metadata": {},
   "outputs": [
    {
     "data": {
      "text/html": [
       "<div>\n",
       "<style scoped>\n",
       "    .dataframe tbody tr th:only-of-type {\n",
       "        vertical-align: middle;\n",
       "    }\n",
       "\n",
       "    .dataframe tbody tr th {\n",
       "        vertical-align: top;\n",
       "    }\n",
       "\n",
       "    .dataframe thead th {\n",
       "        text-align: right;\n",
       "    }\n",
       "</style>\n",
       "<table border=\"1\" class=\"dataframe\">\n",
       "  <thead>\n",
       "    <tr style=\"text-align: right;\">\n",
       "      <th></th>\n",
       "      <th>Temperature °C</th>\n",
       "      <th>Mols KCL</th>\n",
       "    </tr>\n",
       "  </thead>\n",
       "  <tbody>\n",
       "    <tr>\n",
       "      <th>0</th>\n",
       "      <td>469</td>\n",
       "      <td>647</td>\n",
       "    </tr>\n",
       "    <tr>\n",
       "      <th>1</th>\n",
       "      <td>403</td>\n",
       "      <td>694</td>\n",
       "    </tr>\n",
       "    <tr>\n",
       "      <th>2</th>\n",
       "      <td>302</td>\n",
       "      <td>975</td>\n",
       "    </tr>\n",
       "    <tr>\n",
       "      <th>3</th>\n",
       "      <td>779</td>\n",
       "      <td>916</td>\n",
       "    </tr>\n",
       "    <tr>\n",
       "      <th>4</th>\n",
       "      <td>901</td>\n",
       "      <td>18</td>\n",
       "    </tr>\n",
       "    <tr>\n",
       "      <th>...</th>\n",
       "      <td>...</td>\n",
       "      <td>...</td>\n",
       "    </tr>\n",
       "    <tr>\n",
       "      <th>995</th>\n",
       "      <td>894</td>\n",
       "      <td>847</td>\n",
       "    </tr>\n",
       "    <tr>\n",
       "      <th>996</th>\n",
       "      <td>327</td>\n",
       "      <td>982</td>\n",
       "    </tr>\n",
       "    <tr>\n",
       "      <th>997</th>\n",
       "      <td>791</td>\n",
       "      <td>213</td>\n",
       "    </tr>\n",
       "    <tr>\n",
       "      <th>998</th>\n",
       "      <td>769</td>\n",
       "      <td>553</td>\n",
       "    </tr>\n",
       "    <tr>\n",
       "      <th>999</th>\n",
       "      <td>919</td>\n",
       "      <td>452</td>\n",
       "    </tr>\n",
       "  </tbody>\n",
       "</table>\n",
       "<p>1000 rows × 2 columns</p>\n",
       "</div>"
      ],
      "text/plain": [
       "     Temperature °C  Mols KCL\n",
       "0               469       647\n",
       "1               403       694\n",
       "2               302       975\n",
       "3               779       916\n",
       "4               901        18\n",
       "..              ...       ...\n",
       "995             894       847\n",
       "996             327       982\n",
       "997             791       213\n",
       "998             769       553\n",
       "999             919       452\n",
       "\n",
       "[1000 rows x 2 columns]"
      ]
     },
     "execution_count": 37,
     "metadata": {},
     "output_type": "execute_result"
    }
   ],
   "source": [
    "features = dp[[\"Temperature °C\", \"Mols KCL\"]]\n",
    "features"
   ]
  },
  {
   "cell_type": "code",
   "execution_count": 38,
   "metadata": {},
   "outputs": [
    {
     "data": {
      "text/html": [
       "<div>\n",
       "<style scoped>\n",
       "    .dataframe tbody tr th:only-of-type {\n",
       "        vertical-align: middle;\n",
       "    }\n",
       "\n",
       "    .dataframe tbody tr th {\n",
       "        vertical-align: top;\n",
       "    }\n",
       "\n",
       "    .dataframe thead th {\n",
       "        text-align: right;\n",
       "    }\n",
       "</style>\n",
       "<table border=\"1\" class=\"dataframe\">\n",
       "  <thead>\n",
       "    <tr style=\"text-align: right;\">\n",
       "      <th></th>\n",
       "      <th>Size nm^3</th>\n",
       "    </tr>\n",
       "  </thead>\n",
       "  <tbody>\n",
       "    <tr>\n",
       "      <th>0</th>\n",
       "      <td>6.244743e+05</td>\n",
       "    </tr>\n",
       "    <tr>\n",
       "      <th>1</th>\n",
       "      <td>5.779610e+05</td>\n",
       "    </tr>\n",
       "    <tr>\n",
       "      <th>2</th>\n",
       "      <td>6.196847e+05</td>\n",
       "    </tr>\n",
       "    <tr>\n",
       "      <th>3</th>\n",
       "      <td>1.460449e+06</td>\n",
       "    </tr>\n",
       "    <tr>\n",
       "      <th>4</th>\n",
       "      <td>4.325726e+04</td>\n",
       "    </tr>\n",
       "    <tr>\n",
       "      <th>...</th>\n",
       "      <td>...</td>\n",
       "    </tr>\n",
       "    <tr>\n",
       "      <th>995</th>\n",
       "      <td>1.545661e+06</td>\n",
       "    </tr>\n",
       "    <tr>\n",
       "      <th>996</th>\n",
       "      <td>6.737041e+05</td>\n",
       "    </tr>\n",
       "    <tr>\n",
       "      <th>997</th>\n",
       "      <td>3.477543e+05</td>\n",
       "    </tr>\n",
       "    <tr>\n",
       "      <th>998</th>\n",
       "      <td>8.684794e+05</td>\n",
       "    </tr>\n",
       "    <tr>\n",
       "      <th>999</th>\n",
       "      <td>8.476413e+05</td>\n",
       "    </tr>\n",
       "  </tbody>\n",
       "</table>\n",
       "<p>1000 rows × 1 columns</p>\n",
       "</div>"
      ],
      "text/plain": [
       "        Size nm^3\n",
       "0    6.244743e+05\n",
       "1    5.779610e+05\n",
       "2    6.196847e+05\n",
       "3    1.460449e+06\n",
       "4    4.325726e+04\n",
       "..            ...\n",
       "995  1.545661e+06\n",
       "996  6.737041e+05\n",
       "997  3.477543e+05\n",
       "998  8.684794e+05\n",
       "999  8.476413e+05\n",
       "\n",
       "[1000 rows x 1 columns]"
      ]
     },
     "execution_count": 38,
     "metadata": {},
     "output_type": "execute_result"
    }
   ],
   "source": [
    "label = dp[['Size nm^3']]\n",
    "label"
   ]
  },
  {
   "cell_type": "markdown",
   "metadata": {},
   "source": [
    "# Linear Regression"
   ]
  },
  {
   "cell_type": "code",
   "execution_count": 39,
   "metadata": {},
   "outputs": [],
   "source": [
    "from sklearn.model_selection import train_test_split\n",
    "\n",
    "X_train, X_test, y_train, y_test = train_test_split(features, label, test_size = 0.1)"
   ]
  },
  {
   "cell_type": "code",
   "execution_count": 40,
   "metadata": {},
   "outputs": [
    {
     "data": {
      "text/plain": [
       "array([[ 352791.60485356],\n",
       "       [ 842010.98448731],\n",
       "       [ 315675.93536123],\n",
       "       [ 681159.76290527],\n",
       "       [-284817.00667017],\n",
       "       [-182812.85521371],\n",
       "       [ 417825.96956625],\n",
       "       [ 366261.18310053],\n",
       "       [ 329527.93065547],\n",
       "       [ 909793.55483848],\n",
       "       [-308893.88034296],\n",
       "       [1249390.56503777],\n",
       "       [ 445297.54534695],\n",
       "       [-156194.38250396],\n",
       "       [ 249376.62753819],\n",
       "       [ 753555.71376526],\n",
       "       [ 813472.46946237],\n",
       "       [ 210353.63795702],\n",
       "       [ 328264.36070876],\n",
       "       [1360009.89668919],\n",
       "       [ 137804.07007165],\n",
       "       [ 801454.8528827 ],\n",
       "       [ 131684.72890928],\n",
       "       [ 531056.22684302],\n",
       "       [ 205005.85575591],\n",
       "       [ -99308.99520702],\n",
       "       [ 198284.40496485],\n",
       "       [ 633997.26710236],\n",
       "       [ 643278.89556486],\n",
       "       [ 763076.11814871],\n",
       "       [1102535.84833487],\n",
       "       [1022835.7841482 ],\n",
       "       [ 568992.32538181],\n",
       "       [ 315501.49807914],\n",
       "       [ 811282.85507044],\n",
       "       [1325881.20875629],\n",
       "       [1019616.89248604],\n",
       "       [ 595650.70168781],\n",
       "       [ -43410.37620827],\n",
       "       [1434983.73539651],\n",
       "       [ 403466.99943797],\n",
       "       [ 116440.99109568],\n",
       "       [ 555532.21832886],\n",
       "       [ 373173.40818593],\n",
       "       [ 229760.0220539 ],\n",
       "       [ 192538.37340927],\n",
       "       [1151637.83354604],\n",
       "       [ 680098.68006915],\n",
       "       [1002587.64604308],\n",
       "       [ 336006.99073969],\n",
       "       [1167937.66624623],\n",
       "       [ 992396.3101476 ],\n",
       "       [ 758937.03844946],\n",
       "       [ -12912.41997694],\n",
       "       [1180659.75682101],\n",
       "       [1415590.94198458],\n",
       "       [ 335816.7211504 ],\n",
       "       [ 513341.95349803],\n",
       "       [1107347.2327098 ],\n",
       "       [ 533951.6883937 ],\n",
       "       [ 132814.63362874],\n",
       "       [-301844.87994948],\n",
       "       [ 734644.08698113],\n",
       "       [-372886.24555907],\n",
       "       [ 994495.27298937],\n",
       "       [ 285551.2887367 ],\n",
       "       [  98505.65200562],\n",
       "       [ 280845.01505548],\n",
       "       [ 660060.76335144],\n",
       "       [ 582781.35520083],\n",
       "       [ 487885.55482717],\n",
       "       [ 524574.4204315 ],\n",
       "       [ 473518.48666853],\n",
       "       [ 769821.13552379],\n",
       "       [ 342550.38946277],\n",
       "       [ 542355.27403759],\n",
       "       [ 476785.3799573 ],\n",
       "       [ 692316.54213717],\n",
       "       [ 623999.81558205],\n",
       "       [ 689406.62144295],\n",
       "       [ 382589.57033427],\n",
       "       [ 200323.14865869],\n",
       "       [ 590416.63291582],\n",
       "       [ 368627.4763968 ],\n",
       "       [  96882.36313707],\n",
       "       [ 830498.96957804],\n",
       "       [1054281.97824512],\n",
       "       [  87590.75877551],\n",
       "       [-119580.69989615],\n",
       "       [ 102105.58755141],\n",
       "       [ 995347.00289667],\n",
       "       [-323862.18967171],\n",
       "       [   5932.62654609],\n",
       "       [ 672908.78487665],\n",
       "       [1077084.43761354],\n",
       "       [ 854624.3495825 ],\n",
       "       [-244582.56825986],\n",
       "       [1048015.38117055],\n",
       "       [1062516.6192615 ],\n",
       "       [-292736.31560544]])"
      ]
     },
     "execution_count": 40,
     "metadata": {},
     "output_type": "execute_result"
    }
   ],
   "source": [
    "from sklearn.linear_model import LinearRegression\n",
    "\n",
    "reg = LinearRegression().fit(X_train, y_train)\n",
    "reg.predict(X_test)"
   ]
  },
  {
   "cell_type": "code",
   "execution_count": 41,
   "metadata": {},
   "outputs": [
    {
     "name": "stdout",
     "output_type": "stream",
     "text": [
      "The accruacy is  0.8624314280456504\n"
     ]
    }
   ],
   "source": [
    "score=reg.score(X_test, y_test)\n",
    "print(\"The accruacy is \",score)"
   ]
  },
  {
   "cell_type": "code",
   "execution_count": 42,
   "metadata": {},
   "outputs": [
    {
     "data": {
      "text/plain": [
       "array([[ 870.30854178, 1029.78197528]])"
      ]
     },
     "execution_count": 42,
     "metadata": {},
     "output_type": "execute_result"
    }
   ],
   "source": [
    "reg.coef_\n"
   ]
  },
  {
   "cell_type": "code",
   "execution_count": 43,
   "metadata": {},
   "outputs": [
    {
     "name": "stdout",
     "output_type": "stream",
     "text": [
      "The intercept is [-414382.88075245]\n"
     ]
    }
   ],
   "source": [
    "intercept=reg.intercept_\n",
    "print(\"The intercept is\", intercept)"
   ]
  },
  {
   "cell_type": "code",
   "execution_count": 44,
   "metadata": {},
   "outputs": [
    {
     "name": "stdout",
     "output_type": "stream",
     "text": [
      "The equation is Size nm^3=  [-414382.88075245]  + 88.78688354*Temperature °C +  1023.24228137*Mols KCL\n"
     ]
    }
   ],
   "source": [
    "print(\"The equation is Size nm^3= \",intercept,\" +\",\"88.78688354*Temperature °C + \",\"1023.24228137*Mols KCL\")"
   ]
  },
  {
   "cell_type": "markdown",
   "metadata": {},
   "source": [
    "# Cross Validation"
   ]
  },
  {
   "cell_type": "code",
   "execution_count": 45,
   "metadata": {},
   "outputs": [
    {
     "name": "stdout",
     "output_type": "stream",
     "text": [
      "0.8002223638921684 accuracy with a standard deviation of 0.1860164659480802\n"
     ]
    }
   ],
   "source": [
    "from sklearn.model_selection import cross_val_score\n",
    "scores = cross_val_score(reg, X_train, y_train, cv = 50)\n",
    "print(f'{scores.mean()} accuracy with a standard deviation of {scores.std()}')"
   ]
  },
  {
   "cell_type": "markdown",
   "metadata": {},
   "source": [
    "It shows that the accuracy is improved to 83.97% by cross valiation compared with linear regression."
   ]
  },
  {
   "cell_type": "markdown",
   "metadata": {},
   "source": [
    "# Polynomial Regression"
   ]
  },
  {
   "cell_type": "code",
   "execution_count": 46,
   "metadata": {},
   "outputs": [
    {
     "name": "stdout",
     "output_type": "stream",
     "text": [
      "Score: 1.0\n",
      "coefficent: [[ 0.00000000e+00  1.20000000e+01 -9.21839733e-08 -1.90230054e-11\n",
      "   2.00000000e+00  2.85714287e-02]]\n"
     ]
    }
   ],
   "source": [
    "from sklearn import linear_model\n",
    "from sklearn.linear_model import LinearRegression\n",
    "from sklearn.preprocessing import PolynomialFeatures\n",
    "polyReg = PolynomialFeatures(2)\n",
    "X_train = polyReg.fit_transform(X_train)\n",
    "X_test = polyReg.fit_transform(X_test)\n",
    "model = linear_model.LinearRegression()\n",
    "model.fit(X_train, y_train)\n",
    "print(f'Score: {model.score(X_train, y_train)}')\n",
    "print(\"coefficent:\",model.coef_)\n",
    "\n"
   ]
  },
  {
   "cell_type": "code",
   "execution_count": 47,
   "metadata": {},
   "outputs": [
    {
     "name": "stdout",
     "output_type": "stream",
     "text": [
      "intercept: [1.07537489e-05]\n",
      "Predict: [[6.09377143e+04]\n",
      " [8.69366857e+05]\n",
      " [3.05595400e+05]\n",
      " [6.21303429e+05]\n",
      " [6.18911429e+03]\n",
      " [2.46084286e+04]\n",
      " [3.62578714e+05]\n",
      " [2.13269829e+05]\n",
      " [3.17104114e+05]\n",
      " [9.97619314e+05]\n",
      " [4.29082858e+03]\n",
      " [1.57454111e+06]\n",
      " [3.89294314e+05]\n",
      " [2.16700286e+04]\n",
      " [2.00866257e+05]\n",
      " [5.49207314e+05]\n",
      " [8.59049114e+05]\n",
      " [1.12557114e+05]\n",
      " [2.40745257e+05]\n",
      " [1.77320331e+06]\n",
      " [8.91980286e+04]\n",
      " [6.95233029e+05]\n",
      " [1.01626314e+05]\n",
      " [5.07560114e+05]\n",
      " [2.20722829e+05]\n",
      " [4.68321143e+04]\n",
      " [2.07198857e+05]\n",
      " [6.00674857e+05]\n",
      " [6.03438857e+05]\n",
      " [7.78384314e+05]\n",
      " [1.26995511e+06]\n",
      " [9.98594029e+05]\n",
      " [4.30492314e+05]\n",
      " [2.41161257e+05]\n",
      " [6.10293600e+05]\n",
      " [1.70761660e+06]\n",
      " [1.15344643e+06]\n",
      " [5.55545000e+05]\n",
      " [4.21308286e+04]\n",
      " [1.92627283e+06]\n",
      " [3.78131314e+05]\n",
      " [8.54450286e+04]\n",
      " [4.17030029e+05]\n",
      " [1.97787143e+04]\n",
      " [1.17762314e+05]\n",
      " [1.93753029e+05]\n",
      " [1.38011383e+06]\n",
      " [3.37170857e+05]\n",
      " [1.12075783e+06]\n",
      " [3.19512429e+05]\n",
      " [1.41796260e+06]\n",
      " [1.08112411e+06]\n",
      " [5.58759857e+05]\n",
      " [9.32680286e+04]\n",
      " [1.43518183e+06]\n",
      " [1.88480103e+06]\n",
      " [2.92210029e+05]\n",
      " [1.89236829e+05]\n",
      " [1.24219443e+06]\n",
      " [2.70368000e+05]\n",
      " [8.74551143e+04]\n",
      " [4.78631429e+03]\n",
      " [7.43933829e+05]\n",
      " [8.41457151e+02]\n",
      " [1.11379646e+06]\n",
      " [2.31584257e+05]\n",
      " [1.33531429e+05]\n",
      " [2.71050400e+05]\n",
      " [6.24474257e+05]\n",
      " [5.39021457e+05]\n",
      " [3.75531400e+05]\n",
      " [3.09613114e+05]\n",
      " [5.76091143e+04]\n",
      " [7.73750257e+05]\n",
      " [3.28049029e+05]\n",
      " [4.80946400e+05]\n",
      " [3.11881257e+05]\n",
      " [6.46518314e+05]\n",
      " [5.60757457e+05]\n",
      " [6.76430029e+05]\n",
      " [3.54956457e+05]\n",
      " [1.14416314e+05]\n",
      " [3.55520829e+05]\n",
      " [3.47416457e+05]\n",
      " [1.39407457e+05]\n",
      " [8.08565257e+05]\n",
      " [1.20599246e+06]\n",
      " [7.38660286e+04]\n",
      " [6.68045716e+03]\n",
      " [1.18924114e+05]\n",
      " [1.09042026e+06]\n",
      " [3.22402858e+03]\n",
      " [5.31800286e+04]\n",
      " [4.16308457e+05]\n",
      " [1.24615340e+06]\n",
      " [8.03208600e+05]\n",
      " [9.97425714e+03]\n",
      " [1.03529243e+06]\n",
      " [1.23976740e+06]\n",
      " [5.41882857e+03]]\n"
     ]
    }
   ],
   "source": [
    "print(f'intercept: {model.intercept_}')\n",
    "print(f'Predict: {model.predict(X_test)}')"
   ]
  },
  {
   "cell_type": "markdown",
   "metadata": {},
   "source": [
    "Since we got a score of 1.0, it shows that the model prediction is roughly 100% correct which is improves a lot.\n",
    "The equation is  Y=c0 + c1*x + c2*x^2 ⋯ cn*x^n\n",
    "which means we need to plug in our coefficent values.\n"
   ]
  },
  {
   "cell_type": "code",
   "execution_count": null,
   "metadata": {},
   "outputs": [],
   "source": []
  }
 ],
 "metadata": {
  "kernelspec": {
   "display_name": "Python 3",
   "language": "python",
   "name": "python3"
  },
  "language_info": {
   "codemirror_mode": {
    "name": "ipython",
    "version": 3
   },
   "file_extension": ".py",
   "mimetype": "text/x-python",
   "name": "python",
   "nbconvert_exporter": "python",
   "pygments_lexer": "ipython3",
   "version": "3.8.5"
  }
 },
 "nbformat": 4,
 "nbformat_minor": 4
}
